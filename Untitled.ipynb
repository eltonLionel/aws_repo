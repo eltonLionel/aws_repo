{
 "cells": [
  {
   "cell_type": "markdown",
   "id": "empirical-wichita",
   "metadata": {},
   "source": [
    "# AIDI-2004: Artificial Intelligence in Enterprise Systems\n",
    "## Lab #2 – Enterprise Cloud Computing"
   ]
  },
  {
   "cell_type": "code",
   "execution_count": 1,
   "id": "monetary-excess",
   "metadata": {},
   "outputs": [
    {
     "name": "stdout",
     "output_type": "stream",
     "text": [
      "Enter two numbers1 2\n",
      "Sum is : 3\n",
      "Difference is : 1\n",
      "Multiplication is : 2\n",
      "Division is : 0.5\n"
     ]
    }
   ],
   "source": [
    "a,b  = map(int,input(\"Enter two numbers\").split())\n",
    "\n",
    "# addition\n",
    "\n",
    "print('Sum is :',a+b)\n",
    "\n",
    "# Subrtaction\n",
    "\n",
    "print('Difference is :',b-a)\n",
    "\n",
    "# Multiplication\n",
    "\n",
    "print('Multiplication is :',a*b)\n",
    "\n",
    "# Division\n",
    "\n",
    "print('Division is :',float(a)/float(b))"
   ]
  },
  {
   "cell_type": "code",
   "execution_count": null,
   "id": "first-district",
   "metadata": {},
   "outputs": [],
   "source": []
  }
 ],
 "metadata": {
  "kernelspec": {
   "display_name": "conda_python3",
   "language": "python",
   "name": "conda_python3"
  },
  "language_info": {
   "codemirror_mode": {
    "name": "ipython",
    "version": 3
   },
   "file_extension": ".py",
   "mimetype": "text/x-python",
   "name": "python",
   "nbconvert_exporter": "python",
   "pygments_lexer": "ipython3",
   "version": "3.6.10"
  }
 },
 "nbformat": 4,
 "nbformat_minor": 5
}
